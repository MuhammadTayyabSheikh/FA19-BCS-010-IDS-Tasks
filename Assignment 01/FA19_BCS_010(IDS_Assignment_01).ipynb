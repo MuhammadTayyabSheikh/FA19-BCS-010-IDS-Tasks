{
  "nbformat": 4,
  "nbformat_minor": 0,
  "metadata": {
    "colab": {
      "provenance": [],
      "collapsed_sections": []
    },
    "kernelspec": {
      "name": "python3",
      "display_name": "Python 3"
    },
    "language_info": {
      "name": "python"
    }
  },
  "cells": [
    {
      "cell_type": "markdown",
      "source": [
        "# Author : Muhammad Tayyab\n",
        "# Reg No : FA19-BCS-010\n",
        "# Section: G2"
      ],
      "metadata": {
        "id": "33B_4-h7X-IY"
      }
    },
    {
      "cell_type": "markdown",
      "source": [
        "### Importing Libraries"
      ],
      "metadata": {
        "id": "kJEGfNhgKd53"
      }
    },
    {
      "cell_type": "code",
      "source": [
        "import pandas as pd\n",
        "import numpy as np\n",
        "import re\n",
        "import matplotlib.pyplot as plt\n",
        "import seaborn as sns"
      ],
      "metadata": {
        "id": "S3aDNNXnYGip"
      },
      "execution_count": 2,
      "outputs": []
    },
    {
      "cell_type": "markdown",
      "source": [
        "### Loading Dataset"
      ],
      "metadata": {
        "id": "E6BTx9-vYOuI"
      }
    },
    {
      "cell_type": "code",
      "source": [
        "df = pd.read_csv('/content/the-hello-dataset-fa22.csv')"
      ],
      "metadata": {
        "id": "N45NmMw1YScA"
      },
      "execution_count": 39,
      "outputs": []
    },
    {
      "cell_type": "markdown",
      "source": [
        "### Cleaning Name & Gender Columns"
      ],
      "metadata": {
        "id": "EAkNBtU3IsF5"
      }
    },
    {
      "cell_type": "code",
      "source": [
        "df.loc[:, 'Name'] = df.Name.str.title()\n",
        "df.loc[:, 'Gender'] = df.Gender.str.title()"
      ],
      "metadata": {
        "id": "q_nKtwNFIvuP"
      },
      "execution_count": 67,
      "outputs": []
    },
    {
      "cell_type": "markdown",
      "source": [
        "### Cleaning HSSC-1 & HSSC-2 Columns \n",
        "* Keeping only first three digits.\n",
        "* Dividing the number greater than total marks(550) by 2 to take average"
      ],
      "metadata": {
        "id": "QpG7RaW-0kls"
      }
    },
    {
      "cell_type": "code",
      "source": [
        "df['HSSC-1'] = df['HSSC-1'].str.extract(r'(\\d{3})')\n",
        "\n",
        "\n",
        "df.loc[df['HSSC-1'].astype(float) >= 550, 'HSSC-1'] = df['HSSC-1'].astype(float) / 2\n",
        "\n",
        "df['HSSC-2'] = df['HSSC-2'].str.extract(r'(\\d{3})')\n",
        "df.loc[df['HSSC-2'].astype(float) >= 550, 'HSSC-2'] = df['HSSC-2'].astype(float) / 2\n",
        "\n",
        "print((df['HSSC-2'][59]))"
      ],
      "metadata": {
        "colab": {
          "base_uri": "https://localhost:8080/"
        },
        "id": "oEz4VSnf05we",
        "outputId": "bc796444-918f-4ca0-cc02-82e4f62c6a06"
      },
      "execution_count": 68,
      "outputs": [
        {
          "output_type": "stream",
          "name": "stdout",
          "text": [
            "377.5\n"
          ]
        }
      ]
    },
    {
      "cell_type": "markdown",
      "source": [
        "### Cleaning CGPA Column\n",
        "* Only keeping the values with format 3.33"
      ],
      "metadata": {
        "id": "wVi8DcPM5zTQ"
      }
    },
    {
      "cell_type": "code",
      "source": [
        "df['CGPA'] = df['CGPA'].str.extract(r'(\\d\\.?\\d?\\d?)')"
      ],
      "metadata": {
        "id": "kmXrC3tb53ib"
      },
      "execution_count": 69,
      "outputs": []
    },
    {
      "cell_type": "markdown",
      "source": [
        "### Cleaning Birth Moth Column\n",
        "* Replacing wrong spelling of a month with correct one\n",
        "* Month number to corresponding month name  "
      ],
      "metadata": {
        "id": "GWsqyIwFE8Ol"
      }
    },
    {
      "cell_type": "code",
      "source": [
        "df['BirthMonth'] = df.BirthMonth.str.strip()\n",
        "df['BirthMonth'] = df.BirthMonth.str.title()\n",
        "df['BirthMonth'] = df.BirthMonth.str.replace('Feburary', 'February')\n",
        "df['BirthMonth'] = df.BirthMonth.str.replace('11', 'November')\n",
        "df['BirthMonth'] = df.BirthMonth.str.replace('24/02/2001', 'February')"
      ],
      "metadata": {
        "id": "6kWdwkWrE_sZ"
      },
      "execution_count": 70,
      "outputs": []
    },
    {
      "cell_type": "markdown",
      "source": [
        "### Cleaning Weight Column\n",
        "* Onlu keeping 3 digits of weight"
      ],
      "metadata": {
        "id": "6XStzqTGH_B_"
      }
    },
    {
      "cell_type": "code",
      "source": [
        "df['Weight'] = df['Weight'].str.extract(r'(\\d\\d\\d?)')"
      ],
      "metadata": {
        "id": "VeMY1ZCyIBpZ"
      },
      "execution_count": 71,
      "outputs": []
    },
    {
      "cell_type": "markdown",
      "source": [
        "### Cleaning Favorite Color Column\n",
        "* Removing spaces from start and end of color\n",
        "* Capatalizing the color name"
      ],
      "metadata": {
        "id": "mAlOUDk4Luex"
      }
    },
    {
      "cell_type": "code",
      "source": [
        "df['FavoriteColor'] = df['FavoriteColor'].str.strip()\n",
        "df['FavoriteColor'] = df['FavoriteColor'].str.title()\n",
        "df['FavoriteColor'].value_counts()"
      ],
      "metadata": {
        "colab": {
          "base_uri": "https://localhost:8080/"
        },
        "id": "dmvMX2azLyeD",
        "outputId": "833c4534-d68c-4449-f485-e13ca43df839"
      },
      "execution_count": 72,
      "outputs": [
        {
          "output_type": "execute_result",
          "data": {
            "text/plain": [
              "Black             46\n",
              "Blue              24\n",
              "Yellow            11\n",
              "Red               10\n",
              "Green              8\n",
              "White              5\n",
              "Pink               4\n",
              "Navy Blue          4\n",
              "Light Green        4\n",
              "Orange             4\n",
              "Peach              3\n",
              "Purple             3\n",
              "Dark Blue          3\n",
              "Gray And Brown     2\n",
              "Mustard            1\n",
              "Brown              1\n",
              "Grey               1\n",
              "Name: FavoriteColor, dtype: int64"
            ]
          },
          "metadata": {},
          "execution_count": 72
        }
      ]
    },
    {
      "cell_type": "markdown",
      "source": [
        "# Question"
      ],
      "metadata": {
        "id": "UDUz_1GZJhP7"
      }
    },
    {
      "cell_type": "markdown",
      "source": [
        "### Print the list of all students whose first name starts with letter the 'H'."
      ],
      "metadata": {
        "id": "ouFNj3CdJoUh"
      }
    },
    {
      "cell_type": "code",
      "source": [
        "df[df['Name'].str[0].isin(['H'])].Name"
      ],
      "metadata": {
        "id": "am0M55vuJw-C",
        "colab": {
          "base_uri": "https://localhost:8080/"
        },
        "outputId": "6ae52b8a-7d98-4147-b2a2-2d71daed4fe7"
      },
      "execution_count": 73,
      "outputs": [
        {
          "output_type": "execute_result",
          "data": {
            "text/plain": [
              "9             Hamza Naveed\n",
              "21             Habib Ullah\n",
              "22            Hunain Javed\n",
              "58    Hafiz Malahim Labib.\n",
              "60     Hamna Tariq Saleemi\n",
              "77                    Hina\n",
              "78        Hamza Javed Khan\n",
              "80          Husnain Ahmed \n",
              "93        Hamayoun Masroor\n",
              "98           Hussain Afzal\n",
              "Name: Name, dtype: object"
            ]
          },
          "metadata": {},
          "execution_count": 73
        }
      ]
    },
    {
      "cell_type": "markdown",
      "source": [
        "### Print the total number of students who have a three words name (first-middle-surname)."
      ],
      "metadata": {
        "id": "8bhePQc-Lm3F"
      }
    },
    {
      "cell_type": "code",
      "source": [
        "print(len(df[df['Name'].str.count(r'[a-zA-Z]+ [a-zA-Z]+ [a-zA-Z]+$') == 1]))"
      ],
      "metadata": {
        "id": "VCTx-ZqQLoOj",
        "colab": {
          "base_uri": "https://localhost:8080/"
        },
        "outputId": "73970e12-9753-4406-d43e-dd1b96599dbd"
      },
      "execution_count": 74,
      "outputs": [
        {
          "output_type": "stream",
          "name": "stdout",
          "text": [
            "35\n"
          ]
        }
      ]
    },
    {
      "cell_type": "markdown",
      "source": [
        "### Print the percentage of students who have a CGPA of 3.0 or above."
      ],
      "metadata": {
        "id": "EILys8q5QVKw"
      }
    },
    {
      "cell_type": "code",
      "source": [
        "print((len(df[df['CGPA'].astype(float) >= 3]) / len(df)) * 100)"
      ],
      "metadata": {
        "id": "jiGMyRoDQ-Na",
        "colab": {
          "base_uri": "https://localhost:8080/"
        },
        "outputId": "6995ff4d-d79e-4774-d4c1-779d64fe6049"
      },
      "execution_count": 75,
      "outputs": [
        {
          "output_type": "stream",
          "name": "stdout",
          "text": [
            "28.35820895522388\n"
          ]
        }
      ]
    },
    {
      "cell_type": "markdown",
      "source": [
        "### Plot a pie chart to show the ratio of male and female students."
      ],
      "metadata": {
        "id": "8ztzXTxVSGHH"
      }
    },
    {
      "cell_type": "code",
      "source": [
        "plt.pie(df.groupby(['Gender']).size(), labels = ['Female', 'Male'], autopct='%1.1f%%')\n",
        "plt.show()"
      ],
      "metadata": {
        "id": "op5WuQyDSHPD",
        "colab": {
          "base_uri": "https://localhost:8080/",
          "height": 248
        },
        "outputId": "88fd30ac-e0d4-4977-b6d9-f7321ca1dfb1"
      },
      "execution_count": 76,
      "outputs": [
        {
          "output_type": "display_data",
          "data": {
            "text/plain": [
              "<Figure size 432x288 with 1 Axes>"
            ],
            "image/png": "[encoded data removed]"
          },
          "metadata": {}
        }
      ]
    },
    {
      "cell_type": "markdown",
      "source": [
        "### Plot the CGPA of all male students on a histogram with intervals 2.0-2.5, 2.6-3.0, 3.1-3.5, 3.6-4.0."
      ],
      "metadata": {
        "id": "hEjZAhtlVLDi"
      }
    },
    {
      "cell_type": "code",
      "source": [
        "#histogram\n",
        "#The given intervals are in inclusive form. I make them exclusive(1.95,2.55,3.05,3.55,4.05) but we start with 2 and end at 4.\n",
        "MaleStudentRecord = df.loc[df[\"Gender\"]==\"Male\"]\n",
        "\n",
        "plt.hist(x = MaleStudentRecord.CGPA,bins=[2,2.55,3.05,3.55,4])\n",
        "plt.show()"
      ],
      "metadata": {
        "id": "F8y_jEz5VMZN",
        "colab": {
          "base_uri": "https://localhost:8080/",
          "height": 265
        },
        "outputId": "3ac2c89b-5df6-4acc-ac77-0cfd5a495426"
      },
      "execution_count": 13,
      "outputs": [
        {
          "output_type": "display_data",
          "data": {
            "text/plain": [
              "<Figure size 432x288 with 1 Axes>"
            ],
            "image/png": "[encoded data removed]"
          },
          "metadata": {
            "needs_background": "light"
          }
        }
      ]
    },
    {
      "cell_type": "markdown",
      "source": [
        "Plot the HSSC-1 marks of all male vs female students on a scatter plot."
      ],
      "metadata": {
        "id": "c4UxnkScoUYZ"
      }
    },
    {
      "cell_type": "code",
      "source": [
        "boys = (df.loc[df['Gender'] == 'Male'])['HSSC-1'].astype(str)\n",
        "girls = (df.loc[df['Gender'] == 'Female'])['HSSC-1'].astype(str)\n",
        "\n",
        "# print(len(boys))\n",
        "\n",
        "f = plt.figure(figsize=(50, 10))\n",
        "\n",
        "y = np.arange(0, len(boys))\n",
        "plt.scatter(boys, y, marker='o')\n",
        "\n",
        "\n",
        "y = np.arange(0, len(girls))\n",
        "plt.scatter(girls,y, marker='^')\n",
        "\n",
        "\n",
        "plt.xlabel('Color', fontsize=12)\n",
        "plt.ylabel('Number of Students', fontsize=2)\n",
        "\n",
        "plt.show()"
      ],
      "metadata": {
        "id": "D2k5Vyo6oVEH",
        "colab": {
          "base_uri": "https://localhost:8080/",
          "height": 277
        },
        "outputId": "0383ee8a-6b93-4fee-cedf-e01e8c8ef690"
      },
      "execution_count": 53,
      "outputs": [
        {
          "output_type": "display_data",
          "data": {
            "text/plain": [
              "<Figure size 3600x720 with 1 Axes>"
            ],
            "image/png": "[encoded data removed]"
          },
          "metadata": {
            "needs_background": "light"
          }
        }
      ]
    },
    {
      "cell_type": "markdown",
      "source": [
        "### Plot the favorite colors of male vs female students on a bar chart."
      ],
      "metadata": {
        "id": "rX1et7Nbsk_8"
      }
    },
    {
      "cell_type": "code",
      "source": [
        "Boys = df.loc[df[\"Gender\"]==\"Male\"]\n",
        "Girls = df.loc[df[\"Gender\"]==\"Female\"]\n",
        "\n",
        "\n",
        "BoysColorsList=list(Boys.FavoriteColor.value_counts().index) \n",
        "boysCounterColor = list(Boys.FavoriteColor.value_counts().values)\n",
        "\n",
        "GirlsColorsList=list(Girls.FavoriteColor.value_counts().index)\n",
        "GirlsCounterColor = list(Girls.FavoriteColor.value_counts().values)\n",
        "\n",
        "plt.figure(figsize = (25,6))\n",
        "width = 0.5\n",
        "plt.bar(BoysColorsList, boysCounterColor,width)\n",
        "plt.bar(GirlsColorsList, GirlsCounterColor,width)\n",
        "plt.xlabel(\"Favorite Color\")\n",
        "plt.ylabel(\"Students\")\n",
        "plt.legend()\n",
        "plt.yticks(fontsize = 14)\n",
        "\n",
        "plt.show()"
      ],
      "metadata": {
        "id": "3CPgM_ycslvm",
        "colab": {
          "base_uri": "https://localhost:8080/",
          "height": 427
        },
        "outputId": "2038e9ff-57ec-4d1b-c533-0c49e1360cfd"
      },
      "execution_count": 66,
      "outputs": [
        {
          "output_type": "stream",
          "name": "stderr",
          "text": [
            "WARNING:matplotlib.legend:No handles with labels found to put in legend.\n"
          ]
        },
        {
          "output_type": "display_data",
          "data": {
            "text/plain": [
              "<Figure size 1800x432 with 1 Axes>"
            ],
            "image/png": "[encoded data removed]"
          },
          "metadata": {
            "needs_background": "light"
          }
        }
      ]
    },
    {
      "cell_type": "markdown",
      "source": [
        "• Plot line chart of students and their birth months."
      ],
      "metadata": {
        "id": "TbpdSBG949Qk"
      }
    },
    {
      "cell_type": "code",
      "source": [
        "df['BirthMonth'].value_counts()\n",
        "Months = list(df['BirthMonth'].value_counts().index)\n",
        "StudentCountInMonth = list(df['BirthMonth'].value_counts().values)\n",
        "\n",
        "plt.figure(figsize = (10,10))\n",
        "plt.plot(StudentCountInMonth,Months)\n",
        "plt.show()"
      ],
      "metadata": {
        "id": "S47gUO7D496D",
        "colab": {
          "base_uri": "https://localhost:8080/",
          "height": 592
        },
        "outputId": "6d253f0b-d046-4c17-f629-36d22e24e387"
      },
      "execution_count": 61,
      "outputs": [
        {
          "output_type": "display_data",
          "data": {
            "text/plain": [
              "<Figure size 720x720 with 1 Axes>"
            ],
            "image/png": "[encoded data removed]"
          },
          "metadata": {
            "needs_background": "light"
          }
        }
      ]
    }
  ]
}