{
  "cells": [
    {
      "cell_type": "code",
      "execution_count": 45,
      "metadata": {
        "colab": {
          "base_uri": "https://localhost:8080/"
        },
        "id": "W26WZ9DG4UK_",
        "outputId": "a7ebb718-90cd-4497-f3b4-c914ff4485eb"
      },
      "outputs": [
        {
          "name": "stdout",
          "output_type": "stream",
          "text": [
            "*hich *ords get replaced?\n"
          ]
        }
      ],
      "source": [
        "import re\n",
        "text = \"This course will introduce the basics of data science\"\n",
        "\n",
        "result = re.search(r\"(\\w+)\\s([Ss]cience)\", text)\n",
        "# print(result.start(), result.groups())\n",
        "\n",
        "text = \"This course will introduce the basics of data science\"\n",
        "# result = re.sub(r\"data science\", r\"computer science\", text)\n",
        "result = re.sub(\"w\",\"*\",\"which words get replaced?\")\n",
        "print(result)\n"
      ]
    },
    {
      "cell_type": "code",
      "execution_count": 77,
      "metadata": {
        "colab": {
          "base_uri": "https://localhost:8080/"
        },
        "id": "VekWe4zLW296",
        "outputId": "b35fd465-ae4e-4b26-8d45-623ed0d2d2a7"
      },
      "outputs": [
        {
          "name": "stdout",
          "output_type": "stream",
          "text": [
            "['csc bgf f001']\n"
          ]
        }
      ],
      "source": [
        "# Write a regexp that will match any string that starts with “csc” and ends with “001” with any number of\n",
        "# characters, including none, in between\n",
        "# ○ Hint: consider using a wildcard character\n",
        "\n",
        "text = \"csc bgf f001\"\n",
        "result = re.findall(r\"^csc[\\w|\\s]*001$\", text)\n",
        "# print(result)\n",
        "\n"
      ]
    },
    {
      "cell_type": "code",
      "execution_count": 88,
      "metadata": {
        "colab": {
          "base_uri": "https://localhost:8080/"
        },
        "id": "NwzRB7yUZGFf",
        "outputId": "ceb3fe9b-3d2b-416d-e185-c1b82265540c"
      },
      "outputs": [
        {
          "name": "stdout",
          "output_type": "stream",
          "text": [
            "['gdg.py']\n"
          ]
        }
      ],
      "source": [
        "# Write a regexp that will match name and extension of any Python (.py) file\n",
        "#     There must be at least one character (name of the file) before the “.” (file extension dot)\n",
        "\n",
        "text = \"gdg.py\"\n",
        "result = re.findall(r\"\\w+\\.py$\", text)\n",
        "print(result)"
      ]
    },
    {
      "cell_type": "code",
      "execution_count": 90,
      "metadata": {
        "colab": {
          "base_uri": "https://localhost:8080/"
        },
        "id": "lb8v4MS-Zq-n",
        "outputId": "98043d74-9d2a-4719-8899-8b9724b0be3d"
      },
      "outputs": [
        {
          "name": "stdout",
          "output_type": "stream",
          "text": [
            "['assignment1.py', 'ids.py']\n"
          ]
        }
      ],
      "source": [
        "# Check using a regexp the following string contain a legal Python filename?\n",
        "#     String: “This contains two files, assignment1.py and ids.py”\n",
        "\n",
        "text = \"This contains two files, assignment1.py and ids.py\"\n",
        "result = re.findall(r\"\\w+\\.py\", text)\n",
        "print(result)"
      ]
    },
    {
      "cell_type": "code",
      "execution_count": 99,
      "metadata": {
        "colab": {
          "base_uri": "https://localhost:8080/"
        },
        "id": "xslTyXamaEPY",
        "outputId": "63222e3d-d6d5-4465-c743-837578503611"
      },
      "outputs": [
        {
          "name": "stdout",
          "output_type": "stream",
          "text": [
            "['assignment1.docx', 'ids.doc']\n"
          ]
        }
      ],
      "source": [
        "# Write a regexp which detects legal Microsoft Word file names in a string and make a list of them\n",
        "#     ○ File names must end with “.doc” or “.docx”\n",
        "#     ○ There must be at least one character before the . (file extension dot)\n",
        "#     ○ Assume there are no spaces in the file names\n",
        "\n",
        "text = \"This contains two files, assignment1.docx and ids.doc\"\n",
        "result = re.findall(r\"\\w+\\.docx?\", text)\n",
        "print(result)"
      ]
    },
    {
      "cell_type": "code",
      "execution_count": 100,
      "metadata": {
        "colab": {
          "base_uri": "https://localhost:8080/"
        },
        "id": "LzQF8bWia2aP",
        "outputId": "730e3475-5f03-46ea-a32c-960a779be658"
      },
      "outputs": [
        {
          "name": "stdout",
          "output_type": "stream",
          "text": [
            "['bscs.doc', 'bsse.docx']\n"
          ]
        }
      ],
      "source": [
        "# Print out the start location of the first such filename you encounter in the following string\n",
        "#     ○ String: “Please edit the following two MS Word documents (bscs.doc) and (bsse.docx), and share with us”\n",
        "\n",
        "text = \"Please edit the following two MS Word documents (bscs.doc) and (bsse.docx), and share with us\"\n",
        "result = re.findall(r\"\\w+\\.docx?\", text)\n",
        "print(result)"
      ]
    },
    {
      "cell_type": "code",
      "execution_count": null,
      "metadata": {},
      "outputs": [],
      "source": [
        "#5 or 6 chars the 2 digits\n",
        "\n",
        "text = \"qwert132\"\n",
        "result = re.findall(r\"[a-z]{5,6}\\d{1,2}\", text)\n",
        "print(result)"
      ]
    }
  ],
  "metadata": {
    "colab": {
      "provenance": []
    },
    "kernelspec": {
      "display_name": "Python 3",
      "name": "python3"
    },
    "language_info": {
      "name": "python"
    }
  },
  "nbformat": 4,
  "nbformat_minor": 0
}
