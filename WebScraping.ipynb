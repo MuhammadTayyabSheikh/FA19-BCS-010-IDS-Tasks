{
  "cells": [
    {
      "cell_type": "code",
      "execution_count": 1,
      "metadata": {
        "id": "I5riPyg8y1Rf"
      },
      "outputs": [],
      "source": [
        "#import important libraries\n",
        "\n",
        "import requests\n",
        "from bs4 import BeautifulSoup"
      ]
    },
    {
      "cell_type": "code",
      "execution_count": 2,
      "metadata": {
        "id": "Ym7okMVizBKi"
      },
      "outputs": [],
      "source": [
        "#create an object to fetch HTML from a webpage\n",
        "\n",
        "response = requests.get(\"http://www.cuilahore.edu.pk\")"
      ]
    },
    {
      "cell_type": "code",
      "execution_count": 3,
      "metadata": {
        "colab": {
          "base_uri": "https://localhost:8080/",
          "height": 35
        },
        "id": "0osQ-csuzE_P",
        "outputId": "c446ef64-86de-4d47-965b-ad802f421832"
      },
      "outputs": [
        {
          "data": {
            "application/vnd.google.colaboratory.intrinsic+json": {
              "type": "string"
            },
            "text/plain": [
              "'Microsoft-IIS/8.5'"
            ]
          },
          "execution_count": 3,
          "metadata": {},
          "output_type": "execute_result"
        }
      ],
      "source": [
        "#call different functions associated with the (reponse) object\n",
        "\n",
        "response.status_code\n",
        "response.content\n",
        "response.text\n",
        "response.headers\n",
        "response.headers['Server']"
      ]
    },
    {
      "cell_type": "code",
      "execution_count": null,
      "metadata": {
        "colab": {
          "base_uri": "https://localhost:8080/"
        },
        "id": "G7AwZGMB382O",
        "outputId": "ecdb0cd5-2f44-4dae-b475-64ea9a62a906"
      },
      "outputs": [],
      "source": [
        "#use BeautifulSoup and html5lib to parse HTML text\n",
        "\n",
        "# Scraping the headlines from CNN website.\n",
        "\n",
        "response = requests.get(\"https://edition.cnn.com/world\")\n",
        "root = BeautifulSoup(response.content, 'html5lib')\n",
        "\n",
        "#prettify() is used to format HTML text with proper indents\n",
        "print(root.prettify())"
      ]
    },
    {
      "cell_type": "code",
      "execution_count": 7,
      "metadata": {
        "colab": {
          "base_uri": "https://localhost:8080/"
        },
        "id": "mfYlu6O1rF75",
        "outputId": "b2e3adad-75c7-4e89-b3e1-35dd0e09bccf"
      },
      "outputs": [
        {
          "name": "stdout",
          "output_type": "stream",
          "text": [
            "Self-driving truck makes delivery 10 hours faster than a human \n",
            "\n",
            "A robotic 'Ironhand' could protect factory workers from injuries \n",
            "\n",
            "This swarm of robots gets smarter the more it works \n",
            "\n",
            "The man-made islands emerging from the sea \n",
            "\n",
            "This Martian city is being built in the desert outside Dubai \n",
            "\n",
            "The ancient art of henna gets a modern makeover \n",
            "\n",
            "How Naomi Campbell surprised this Nigerian designer on the runway \n",
            "\n",
            "South African artist blurs dreams and reality  \n",
            "\n",
            "Sharks and seals, photographed up close \n",
            "\n",
            "Jalen Hurts, Eagles pummel Vikings on MNF \n",
            "\n",
            "Celtics to honor Bill Russell with court tribute \n",
            "\n",
            "The most important MLB games left \n",
            "\n",
            "MLBer donates food to hurricane victims in Puerto Rico \n",
            "\n",
            "Inside A'ja Wilson's superstar season \n",
            "\n",
            "Aces win first WNBA title in franchise history \n",
            "\n",
            "0% intro APR until 2024 is 100% insane \n",
            "\n",
            "It's official: now avoid credit card interest into 2024 \n",
            "\n",
            "Experts: this is the best cash back card of 2022 \n",
            "\n",
            "Home Prices are Falling - Don't Wait to Tap Into Your Home's Equity \n",
            "\n",
            "Home Prices Drop Most Since 2011 - Get Cash Out of Your Home ASAP \n",
            "\n",
            "Experts Urge Americans to Refi Before the Next Fed Meeting \n",
            "\n"
          ]
        }
      ],
      "source": [
        "#use a loop to parse through HTML text and get to the data you want to extract\n",
        "#it will filter out all the tags and data you do not need\n",
        "\n",
        "for row in root.find_all('span', attrs = {'class':'cd__headline-text vid-left-enabled'}):\n",
        "  print (row.text, \"\\n\")"
      ]
    }
  ],
  "metadata": {
    "colab": {
      "provenance": []
    },
    "kernelspec": {
      "display_name": "Python 3.10.2 64-bit",
      "language": "python",
      "name": "python3"
    },
    "language_info": {
      "codemirror_mode": {
        "name": "ipython",
        "version": 3
      },
      "file_extension": ".py",
      "mimetype": "text/x-python",
      "name": "python",
      "nbconvert_exporter": "python",
      "pygments_lexer": "ipython3",
      "version": "3.10.2"
    },
    "vscode": {
      "interpreter": {
        "hash": "52cfd43b47a0da422ff984351e3101fb107d004cc5cefdff8f6c6569cb00bf40"
      }
    }
  },
  "nbformat": 4,
  "nbformat_minor": 0
}
